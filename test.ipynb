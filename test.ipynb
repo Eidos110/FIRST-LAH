if x < 5.0 = TRUE
else x > 5.0 , False

