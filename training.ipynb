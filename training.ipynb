#createonething 
def section_1 ():
  if x = 3 
     y = 4
  else x,y = c
  return x,y
